{
  "nbformat": 4,
  "nbformat_minor": 0,
  "metadata": {
    "colab": {
      "name": "CraterZone.ipynb",
      "provenance": [],
      "authorship_tag": "ABX9TyMXRUU82vutcu5NPnBnRoRI",
      "include_colab_link": true
    },
    "kernelspec": {
      "name": "python3",
      "display_name": "Python 3"
    }
  },
  "cells": [
    {
      "cell_type": "markdown",
      "metadata": {
        "id": "view-in-github",
        "colab_type": "text"
      },
      "source": [
        "<a href=\"https://colab.research.google.com/github/shreyeshpandey/extraction-detection-of-text-from-image/blob/master/CraterZone.ipynb\" target=\"_parent\"><img src=\"https://colab.research.google.com/assets/colab-badge.svg\" alt=\"Open In Colab\"/></a>"
      ]
    },
    {
      "cell_type": "code",
      "metadata": {
        "colab": {
          "base_uri": "https://localhost:8080/"
        },
        "id": "ryfA1rPBX9m_",
        "outputId": "524b349c-0798-426f-a196-fe72bbd43094"
      },
      "source": [
        "class Inverter:\n",
        "  def __init__(self,name,battery,current,voltage):\n",
        "    self.name=name\n",
        "    self.battery=battery\n",
        "    self.current=current\n",
        "    self.voltage=voltage\n",
        "  \n",
        "  def getName(self):\n",
        "    return self.name\n",
        "  \n",
        "  def getBattery(self):\n",
        "    if self.battery==0:\n",
        "      return 'No'\n",
        "    else:\n",
        "      return 'Yes'\n",
        "  \n",
        "  def getCurrent(self):\n",
        "    return self.current\n",
        "  \n",
        "  def getVoltage(self):\n",
        "    return self.current\n",
        "\n",
        "class Solar(Inverter):\n",
        "  def __init__(self,name,battery,current,voltage,solar_panels,solar_energy,grid):\n",
        "    super().__init__(name,battery,current,voltage)\n",
        "    self.solar_panels=solar_panels\n",
        "    self.solar_energy=solar_energy\n",
        "    self.grid=grid\n",
        " \n",
        "  def solarPanelsCheck(self):\n",
        "    if self.solar_panels==0:\n",
        "      return 'No'\n",
        "    else:\n",
        "      return 'Yes'\n",
        "\n",
        "  def solarEnergyCheck(self):\n",
        "    if self.solar_energy==0:\n",
        "      return 'No'\n",
        "    else:\n",
        "      return 'Yes'\n",
        "\n",
        "  def gridCheck(self):\n",
        "    if self.grid==0:\n",
        "      return 'Off'\n",
        "    else:\n",
        "      return 'On'\n",
        "\n",
        "  def getDetails(self):\n",
        "    print(\"Inverter Name: \",self.getName())\n",
        "    print(\"Battery: \",self.getBattery())\n",
        "    print(\"Power Rating: \",self.getCurrent()*self.getVoltage())\n",
        "    print(\"Solar Panels: \",self.solarPanelsCheck())\n",
        "    print(\"Solar Energy: \",self.solarEnergyCheck())\n",
        "    print(\"Grid: \",self.gridCheck())\n",
        "\n",
        "def InverterInput(x):\n",
        "  name=input(\"Enter Inverter Name: \")\n",
        "  battery=int(input(\"Battery(1 for Yes/0 for No): \"))\n",
        "  current=int(input(\"Enter Current: \"))\n",
        "  voltage=int(input(\"Enter Voltage: \"))\n",
        "  solar_panels=int(input(\"Solar Panels(1 for Yes/0 for No): \"))\n",
        "  solar_energy=int(input(\"Solar Energy(1 for Yes/0 for No): \"))\n",
        "  grid=int(input(\"Grid(1 for On/0 for Off): \"))\n",
        "  print(\"Data added to records\")\n",
        "  x.append(Solar(name,battery,current,voltage,solar_panels,solar_energy,grid))\n",
        "\n",
        "def main():\n",
        "  flag=0\n",
        "  x=[]\n",
        "  print(\"IoT Inverter Company\")\n",
        "  while(flag!=1):\n",
        "    print(\"MENU\")\n",
        "    print(\"1.Enter data\")\n",
        "    print(\"2.View data\")\n",
        "    print(\"3.Exit\")\n",
        "    choice=int(input())\n",
        "    if choice==1:\n",
        "      InverterInput(x)\n",
        "    elif choice==2:\n",
        "      if len(x)==0:\n",
        "        print(\"Records are empty, add some data first\")\n",
        "      else:\n",
        "        for i in x:\n",
        "          i.getDetails()\n",
        "    elif choice==3:\n",
        "      print(\"Exiting\")\n",
        "      flag=1\n",
        "    else:\n",
        "      print(\"Invalid Input! Enter Again....\")\n",
        "\n",
        "if __name__ == \"__main__\":\n",
        "    main()"
      ],
      "execution_count": 35,
      "outputs": [
        {
          "output_type": "stream",
          "text": [
            "IoT Inverter Company\n",
            "MENU\n",
            "1.Enter data\n",
            "2.View data\n",
            "3.Exit\n",
            "3\n",
            "Exiting\n"
          ],
          "name": "stdout"
        }
      ]
    }
  ]
}